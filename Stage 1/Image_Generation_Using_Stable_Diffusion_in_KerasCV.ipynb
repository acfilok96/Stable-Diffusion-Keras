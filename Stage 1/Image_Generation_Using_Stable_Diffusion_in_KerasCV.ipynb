{
  "nbformat": 4,
  "nbformat_minor": 0,
  "metadata": {
    "colab": {
      "private_outputs": true,
      "provenance": [],
      "gpuType": "T4"
    },
    "kernelspec": {
      "name": "python3",
      "display_name": "Python 3"
    },
    "language_info": {
      "name": "python"
    },
    "accelerator": "GPU",
    "gpuClass": "standard"
  },
  "cells": [
    {
      "cell_type": "markdown",
      "source": [
        "This is very sample code to generate a image from text."
      ],
      "metadata": {
        "id": "gvFI4UYdIeh_"
      }
    },
    {
      "cell_type": "code",
      "execution_count": null,
      "metadata": {
        "id": "9HL3rgXXT4RK"
      },
      "outputs": [],
      "source": [
        "!pip install tensorflow keras_cv --upgrade --quiet"
      ]
    },
    {
      "cell_type": "code",
      "source": [
        "import keras_cv\n",
        "from tensorflow import keras\n",
        "import matplotlib.pyplot as plt"
      ],
      "metadata": {
        "id": "7G2bi6axUHWI"
      },
      "execution_count": null,
      "outputs": []
    },
    {
      "cell_type": "code",
      "source": [
        "# load the model\n",
        "model = keras_cv.models.StableDiffusion(img_width=512, img_height=512)"
      ],
      "metadata": {
        "id": "U0AyNMTeUHS6"
      },
      "execution_count": null,
      "outputs": []
    },
    {
      "cell_type": "code",
      "source": [
        "def plot_images(images):\n",
        "    plt.figure(figsize=(10, 10))\n",
        "    for i in range(len(images)):\n",
        "        ax = plt.subplot(1, len(images), i + 1)\n",
        "        plt.imshow(images[i])\n",
        "        plt.axis(\"off\")\n",
        "    plt.show()"
      ],
      "metadata": {
        "id": "A1qgXsOYXY5o"
      },
      "execution_count": null,
      "outputs": []
    },
    {
      "cell_type": "code",
      "source": [
        "def text_to_image(model, text, img_count=1):\n",
        "  text = text\n",
        "  model = model\n",
        "  img_count = img_count\n",
        "  image = model.text_to_image(str(text), batch_size=img_count)\n",
        "  plot_images(image)"
      ],
      "metadata": {
        "id": "2fXxYkBxUHOT"
      },
      "execution_count": null,
      "outputs": []
    },
    {
      "cell_type": "code",
      "source": [
        "text = input(\"Enter Prompt: \")\n",
        "cnt = int(input(\"Enter Number Of Image: \"))\n",
        "text_to_image(model, text, img_count=cnt)"
      ],
      "metadata": {
        "id": "YrE989EuUHM4"
      },
      "execution_count": null,
      "outputs": []
    },
    {
      "cell_type": "code",
      "source": [],
      "metadata": {
        "id": "m74G0jlHGzBE"
      },
      "execution_count": null,
      "outputs": []
    }
  ]
}